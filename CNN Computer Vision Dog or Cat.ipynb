{
 "cells": [
  {
   "cell_type": "code",
   "execution_count": 1,
   "id": "cdae433d",
   "metadata": {},
   "outputs": [],
   "source": [
    "import numpy as np\n",
    "import tensorflow as tf\n",
    "from tensorflow.keras.preprocessing.image import ImageDataGenerator\n",
    "import PIL"
   ]
  },
  {
   "cell_type": "code",
   "execution_count": 2,
   "id": "856af6ae",
   "metadata": {},
   "outputs": [
    {
     "name": "stdout",
     "output_type": "stream",
     "text": [
      "Found 8000 images belonging to 2 classes.\n"
     ]
    }
   ],
   "source": [
    "train_datagen = ImageDataGenerator(rescale=1/255,\n",
    "                                shear_range=0.2,\n",
    "                               zoom_range=0.2,\n",
    "                               horizontal_flip=True)\n",
    "train_set = train_datagen.flow_from_directory(\"C:/Users/skych/Desktop/Python/Projects/CNN Dog and Cat/dataset/training_set\",\n",
    "                                             target_size=(64,64),\n",
    "                                             batch_size=32,\n",
    "                                             class_mode='binary')"
   ]
  },
  {
   "cell_type": "code",
   "execution_count": 3,
   "id": "449a043d",
   "metadata": {},
   "outputs": [
    {
     "name": "stdout",
     "output_type": "stream",
     "text": [
      "Found 2000 images belonging to 2 classes.\n"
     ]
    }
   ],
   "source": [
    "test_datagen = ImageDataGenerator(rescale=1/255)\n",
    "test_set = test_datagen.flow_from_directory(\"C:/Users/skych/Desktop/Python/Projects/CNN Dog and Cat/dataset/test_set\",\n",
    "                                          target_size=(64,64),\n",
    "                                          batch_size=32,\n",
    "                                          class_mode='binary')"
   ]
  },
  {
   "cell_type": "code",
   "execution_count": 4,
   "id": "f9885c7a",
   "metadata": {},
   "outputs": [],
   "source": [
    "cnn = tf.keras.models.Sequential()"
   ]
  },
  {
   "cell_type": "markdown",
   "id": "d644ac5c",
   "metadata": {},
   "source": [
    "## Convolutional Layer"
   ]
  },
  {
   "cell_type": "code",
   "execution_count": 5,
   "id": "f75f5326",
   "metadata": {},
   "outputs": [],
   "source": [
    "cnn.add(tf.keras.layers.Conv2D(filters=32, kernel_size=3, activation='relu', input_shape=[64,64,3]))"
   ]
  },
  {
   "cell_type": "markdown",
   "id": "68ee0f3a",
   "metadata": {},
   "source": [
    "## Pooling layer"
   ]
  },
  {
   "cell_type": "code",
   "execution_count": 6,
   "id": "03bfe3cb",
   "metadata": {},
   "outputs": [],
   "source": [
    "cnn.add(tf.keras.layers.MaxPool2D(pool_size=2, strides=2))"
   ]
  },
  {
   "cell_type": "markdown",
   "id": "977b8645",
   "metadata": {},
   "source": [
    "## Second Convolutional layer"
   ]
  },
  {
   "cell_type": "code",
   "execution_count": 7,
   "id": "44aedd64",
   "metadata": {},
   "outputs": [],
   "source": [
    "cnn.add(tf.keras.layers.Conv2D(filters=32, kernel_size=3, activation='relu'))\n",
    "cnn.add(tf.keras.layers.MaxPool2D(pool_size=2, strides=2))"
   ]
  },
  {
   "cell_type": "markdown",
   "id": "03b45762",
   "metadata": {},
   "source": [
    "## Flatten"
   ]
  },
  {
   "cell_type": "code",
   "execution_count": 8,
   "id": "ae7901a0",
   "metadata": {},
   "outputs": [],
   "source": [
    "cnn.add(tf.keras.layers.Flatten())"
   ]
  },
  {
   "cell_type": "markdown",
   "id": "cd3c91a3",
   "metadata": {},
   "source": [
    "## Full Connection"
   ]
  },
  {
   "cell_type": "code",
   "execution_count": 9,
   "id": "32e2c5ed",
   "metadata": {},
   "outputs": [],
   "source": [
    "cnn.add(tf.keras.layers.Dense(units=128, activation='relu'))"
   ]
  },
  {
   "cell_type": "markdown",
   "id": "9c58ec0b",
   "metadata": {},
   "source": [
    "## Output Layer"
   ]
  },
  {
   "cell_type": "code",
   "execution_count": 10,
   "id": "d8c4c423",
   "metadata": {},
   "outputs": [],
   "source": [
    "cnn.add(tf.keras.layers.Dense(units=1, activation='sigmoid'))"
   ]
  },
  {
   "cell_type": "code",
   "execution_count": 11,
   "id": "dbcb0f07",
   "metadata": {},
   "outputs": [],
   "source": [
    "cnn.compile(optimizer='adam', loss= 'binary_crossentropy', metrics='accuracy')"
   ]
  },
  {
   "cell_type": "code",
   "execution_count": 12,
   "id": "8653efad",
   "metadata": {},
   "outputs": [
    {
     "name": "stdout",
     "output_type": "stream",
     "text": [
      "Epoch 1/25\n",
      "250/250 [==============================] - 148s 588ms/step - loss: 0.6546 - accuracy: 0.6000 - val_loss: 0.6569 - val_accuracy: 0.6155\n",
      "Epoch 2/25\n",
      "250/250 [==============================] - 32s 128ms/step - loss: 0.5887 - accuracy: 0.6938 - val_loss: 0.5582 - val_accuracy: 0.7290\n",
      "Epoch 3/25\n",
      "250/250 [==============================] - 50s 200ms/step - loss: 0.5495 - accuracy: 0.7250 - val_loss: 0.5278 - val_accuracy: 0.7430\n",
      "Epoch 4/25\n",
      "250/250 [==============================] - 50s 201ms/step - loss: 0.5276 - accuracy: 0.7375 - val_loss: 0.5551 - val_accuracy: 0.7215\n",
      "Epoch 5/25\n",
      "250/250 [==============================] - 42s 168ms/step - loss: 0.5105 - accuracy: 0.7498 - val_loss: 0.5024 - val_accuracy: 0.7560\n",
      "Epoch 6/25\n",
      "250/250 [==============================] - 46s 182ms/step - loss: 0.4859 - accuracy: 0.7642 - val_loss: 0.4811 - val_accuracy: 0.7765\n",
      "Epoch 7/25\n",
      "250/250 [==============================] - 48s 191ms/step - loss: 0.4724 - accuracy: 0.7734 - val_loss: 0.4927 - val_accuracy: 0.7635\n",
      "Epoch 8/25\n",
      "250/250 [==============================] - 50s 200ms/step - loss: 0.4600 - accuracy: 0.7814 - val_loss: 0.4569 - val_accuracy: 0.7885\n",
      "Epoch 9/25\n",
      "250/250 [==============================] - 49s 197ms/step - loss: 0.4465 - accuracy: 0.7910 - val_loss: 0.4748 - val_accuracy: 0.7830\n",
      "Epoch 10/25\n",
      "250/250 [==============================] - 47s 187ms/step - loss: 0.4351 - accuracy: 0.8005 - val_loss: 0.4818 - val_accuracy: 0.7720\n",
      "Epoch 11/25\n",
      "250/250 [==============================] - 49s 196ms/step - loss: 0.4226 - accuracy: 0.8062 - val_loss: 0.4809 - val_accuracy: 0.7770\n",
      "Epoch 12/25\n",
      "250/250 [==============================] - 49s 198ms/step - loss: 0.4135 - accuracy: 0.8083 - val_loss: 0.4531 - val_accuracy: 0.7910\n",
      "Epoch 13/25\n",
      "250/250 [==============================] - 49s 198ms/step - loss: 0.4043 - accuracy: 0.8148 - val_loss: 0.4450 - val_accuracy: 0.7925\n",
      "Epoch 14/25\n",
      "250/250 [==============================] - 48s 191ms/step - loss: 0.3914 - accuracy: 0.8206 - val_loss: 0.5127 - val_accuracy: 0.7690\n",
      "Epoch 15/25\n",
      "250/250 [==============================] - 50s 199ms/step - loss: 0.3740 - accuracy: 0.8341 - val_loss: 0.4673 - val_accuracy: 0.7995\n",
      "Epoch 16/25\n",
      "250/250 [==============================] - 49s 195ms/step - loss: 0.3768 - accuracy: 0.8282 - val_loss: 0.4521 - val_accuracy: 0.8040\n",
      "Epoch 17/25\n",
      "250/250 [==============================] - 48s 191ms/step - loss: 0.3687 - accuracy: 0.8335 - val_loss: 0.4414 - val_accuracy: 0.8130\n",
      "Epoch 18/25\n",
      "250/250 [==============================] - 49s 197ms/step - loss: 0.3511 - accuracy: 0.8456 - val_loss: 0.5204 - val_accuracy: 0.7770\n",
      "Epoch 19/25\n",
      "250/250 [==============================] - 49s 197ms/step - loss: 0.3448 - accuracy: 0.8484 - val_loss: 0.4643 - val_accuracy: 0.7985\n",
      "Epoch 20/25\n",
      "250/250 [==============================] - 49s 194ms/step - loss: 0.3432 - accuracy: 0.8471 - val_loss: 0.4488 - val_accuracy: 0.8090\n",
      "Epoch 21/25\n",
      "250/250 [==============================] - 45s 179ms/step - loss: 0.3195 - accuracy: 0.8624 - val_loss: 0.4789 - val_accuracy: 0.7980\n",
      "Epoch 22/25\n",
      "250/250 [==============================] - 57s 229ms/step - loss: 0.3137 - accuracy: 0.8611 - val_loss: 0.5228 - val_accuracy: 0.7875\n",
      "Epoch 23/25\n",
      "250/250 [==============================] - 52s 206ms/step - loss: 0.3106 - accuracy: 0.8633 - val_loss: 0.4566 - val_accuracy: 0.7965\n",
      "Epoch 24/25\n",
      "250/250 [==============================] - 52s 209ms/step - loss: 0.2773 - accuracy: 0.8824 - val_loss: 0.4949 - val_accuracy: 0.8030\n",
      "Epoch 25/25\n",
      "250/250 [==============================] - 51s 204ms/step - loss: 0.2835 - accuracy: 0.8839 - val_loss: 0.5237 - val_accuracy: 0.7965\n"
     ]
    },
    {
     "data": {
      "text/plain": [
       "<keras.callbacks.History at 0x1af903d8bb0>"
      ]
     },
     "execution_count": 12,
     "metadata": {},
     "output_type": "execute_result"
    }
   ],
   "source": [
    "cnn.fit(x=train_set, validation_data=test_set, epochs=25)"
   ]
  },
  {
   "cell_type": "code",
   "execution_count": 38,
   "id": "3fa5ced7",
   "metadata": {},
   "outputs": [
    {
     "data": {
      "text/plain": [
       "{'cats': 0, 'dogs': 1}"
      ]
     },
     "execution_count": 38,
     "metadata": {},
     "output_type": "execute_result"
    }
   ],
   "source": [
    "train_set.class_indices"
   ]
  },
  {
   "cell_type": "code",
   "execution_count": 66,
   "id": "8753ff50",
   "metadata": {},
   "outputs": [
    {
     "name": "stdout",
     "output_type": "stream",
     "text": [
      "1/1 [==============================] - 0s 32ms/step\n",
      "[[0.99998903]]\n",
      "dog\n"
     ]
    }
   ],
   "source": [
    "test_image = tf.keras.utils.load_img(\"C:/Users/skych/Desktop/Python/Projects/CNN Dog and Cat/dataset/single_prediction/cat_or_dog_1.jpg\",\n",
    "                                    target_size=(64,64))\n",
    "test_image = tf.keras.utils.img_to_array(test_image)\n",
    "test_image = np.expand_dims(test_image, axis=0)\n",
    "result = cnn.predict(test_image/255.0)\n",
    "print(result)\n",
    "\n",
    "if result[0][0] > 0.5:\n",
    "    prediction = 'dog'\n",
    "else:\n",
    "    prediction = 'cat'\n",
    "print(prediction)"
   ]
  },
  {
   "cell_type": "code",
   "execution_count": null,
   "id": "c4be57bd",
   "metadata": {},
   "outputs": [],
   "source": []
  }
 ],
 "metadata": {
  "kernelspec": {
   "display_name": "Python 3 (ipykernel)",
   "language": "python",
   "name": "python3"
  },
  "language_info": {
   "codemirror_mode": {
    "name": "ipython",
    "version": 3
   },
   "file_extension": ".py",
   "mimetype": "text/x-python",
   "name": "python",
   "nbconvert_exporter": "python",
   "pygments_lexer": "ipython3",
   "version": "3.10.9"
  }
 },
 "nbformat": 4,
 "nbformat_minor": 5
}
